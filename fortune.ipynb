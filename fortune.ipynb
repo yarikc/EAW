{
 "cells": [
  {
   "cell_type": "code",
   "execution_count": null,
   "metadata": {},
   "outputs": [],
   "source": [
    "!pip install pyqrcode"
   ]
  },
  {
   "cell_type": "code",
   "execution_count": 13,
   "metadata": {},
   "outputs": [
    {
     "data": {
      "text/html": [
       "<img src=\"https://user-images.githubusercontent.com/764152/135003572-8d01dfea-5db5-4d3e-8174-3a56c5fc31cd.png\" width=\"640\" height=\"480\"/>"
      ],
      "text/plain": [
       "<IPython.core.display.Image object>"
      ]
     },
     "metadata": {},
     "output_type": "display_data"
    },
    {
     "name": "stdout",
     "output_type": "stream",
     "text": [
      "\n",
      "\n",
      "You are the average of the five people you spend the most time with.\n",
      "\n",
      "I spend most of the team with you!\n",
      "\n",
      "I appreciate you for giving me strength every day!\n",
      "\n",
      "To Infinity and Beyond!\n",
      "\n",
      "\n"
     ]
    },
    {
     "data": {
      "text/html": [
       "<img src=\"https://user-images.githubusercontent.com/764152/135004938-3529da41-7136-4ed7-9527-d6dfad899079.jpeg\" width=\"640\" height=\"480\"/>"
      ],
      "text/plain": [
       "<IPython.core.display.Image object>"
      ]
     },
     "metadata": {},
     "output_type": "display_data"
    }
   ],
   "source": [
    "from IPython.core.display import Image, display\n",
    "\n",
    "display(Image(url='https://user-images.githubusercontent.com/764152/135003572-8d01dfea-5db5-4d3e-8174-3a56c5fc31cd.png',width=640, height=480))\n",
    "\n",
    "\n",
    "note=\"\"\"\n",
    "\n",
    "You are the average of the five people you spend the most time with.\n",
    "\n",
    "I spend most of the team with you!\n",
    "\n",
    "I appreciate you for giving me strength every day!\n",
    "\n",
    "To Infinity and Beyond!\n",
    "\n",
    "\"\"\"\n",
    "\n",
    "print(note)\n",
    "\n",
    "display(Image(url='https://user-images.githubusercontent.com/764152/135004938-3529da41-7136-4ed7-9527-d6dfad899079.jpeg',width=640, height=480))\n",
    "\n",
    "\n"
   ]
  },
  {
   "cell_type": "code",
   "execution_count": null,
   "metadata": {},
   "outputs": [],
   "source": [
    "import random\n",
    "import pyqrcode\n",
    "import sys\n",
    "\n",
    "quotes = [\n",
    "    \"“If everyone is moving forward together, then success takes care of itself.” – Henry Ford\",\n",
    "    \"“The ratio of we’s to I’s is the best indicator of the development of a team.” – Lewis B. Ergen\",\n",
    "    \"“If I have seen further, it is by standing on the shoulders of giants.” – Isaac Newton\",\n",
    "    \"“No one can whistle a symphony. It takes a whole orchestra to play it.” – H.E. Luccock\",\n",
    "    \"“Coming together is a beginning, staying together is progress, and working together is a success.” – Henry Ford\",\n",
    "    \"“It takes two flints to make a fire.” – Louisa May Alcott\",\n",
    "    \"“Great things in business are never done by one person; they’re done by a team of people.” – Steve Jobs\",\n",
    "    \"“The way a team plays as a whole determines its success. You may have the greatest bunch of individual stars in the world, \\\n",
    "      but if they don’t play together, the club won’t be worth a dime.” – Babe Ruth\",\n",
    "    \"“A group is a bunch of people in an elevator. A team is a bunch of people in an elevator, but the elevator is broken.” – Bonnie Edelstein\",\n",
    "    \"“There is immense power when a group of people with similar interests gets together to work toward the same goals.” – Idowu Koyenikan\",\n",
    "    \"“Politeness is the poison of collaboration.” – Edwin Land\",\n",
    "    \"“Cooperation is the thorough conviction that nobody can get there unless everybody gets there.” – Virginia Burden\",\n",
    "    \"“If you want to go fast, go alone. If you want to go far, go together.” – African Proverb\",\n",
    "    \"“Success is best when it’s shared.” – Howard Schultz\",\n",
    "    \"“It is amazing what you can accomplish if you do not care who gets the credit.” – Harry Truman\",\n",
    "    \"“Teamwork is the lynchpin in our long term success.” – Ned Lautenbach\",\n",
    "    \"“Team spirit is knowing and living the belief that what a group of people can accomplish together is much larger, \\\n",
    "      far greater, and will exceed that which an individual can accomplish alone.” – Diane Arias\",\n",
    "    \"“Only by binding together as a single force will we remain strong and unconquerable” – Chris Bradford\"\n",
    "]  "
   ]
  },
  {
   "cell_type": "code",
   "execution_count": null,
   "metadata": {},
   "outputs": [],
   "source": [
    "if __name__ == \"__main__\":\n",
    "    person = input(\"Enter your name: \")\n",
    "    print(f\"Hi {person}! Your team quote of teh day is: \\n\")\n",
    "    print(random.choice(quotes))\n",
    "    url = pyqrcode.create(\"tinyurl.com/59ru32md\", error='L', version=2)\n",
    "    print(url.terminal(quiet_zone=0))"
   ]
  }
 ],
 "metadata": {
  "kernelspec": {
   "display_name": "Python 3",
   "language": "python",
   "name": "python3"
  },
  "language_info": {
   "codemirror_mode": {
    "name": "ipython",
    "version": 3
   },
   "file_extension": ".py",
   "mimetype": "text/x-python",
   "name": "python",
   "nbconvert_exporter": "python",
   "pygments_lexer": "ipython3",
   "version": "3.7.6"
  }
 },
 "nbformat": 4,
 "nbformat_minor": 5
}
